{
 "cells": [
  {
   "cell_type": "markdown",
   "metadata": {},
   "source": [
    "## CodingBat Solutions\n",
    "\n",
    "### String-2\n"
   ]
  },
  {
   "cell_type": "markdown",
   "metadata": {},
   "source": [
    "#### double_char\n",
    "\n",
    "* Given a string, return a string where for every char in the original, there are two chars.\n",
    "\n",
    "\n",
    "double_char('The') → 'TThhee'\n",
    "\n",
    "double_char('AAbb') → 'AAAAbbbb'\n",
    "\n",
    "double_char('Hi-There') → 'HHii--TThheerree'"
   ]
  },
  {
   "cell_type": "code",
   "execution_count": null,
   "metadata": {},
   "outputs": [],
   "source": [
    "def double_char(str):\n",
    "  new_str = \"\"\n",
    "  for c in str:\n",
    "      new_str += c * 2\n",
    "  return new_str\n"
   ]
  },
  {
   "cell_type": "markdown",
   "metadata": {},
   "source": [
    "#### count_hi\n",
    "\n",
    "* Return the number of times that the string \"hi\" appears anywhere in the given string.\n",
    "\n",
    "\n",
    "count_hi('abc hi ho') → 1\n",
    "\n",
    "count_hi('ABChi hi') → 2\n",
    "\n",
    "count_hi('hihi') → 2"
   ]
  },
  {
   "cell_type": "code",
   "execution_count": null,
   "metadata": {},
   "outputs": [],
   "source": [
    "def count_hi(str):\n",
    "  return str.count('hi')\n"
   ]
  },
  {
   "cell_type": "markdown",
   "metadata": {},
   "source": [
    "#### cat_dog\n",
    "\n",
    "* Return True if the string \"cat\" and \"dog\" appear the same number of times in the given string.\n",
    "\n",
    "\n",
    "cat_dog('catdog') → True\n",
    "\n",
    "cat_dog('catcat') → False\n",
    "\n",
    "cat_dog('1cat1cadodog') → True"
   ]
  },
  {
   "cell_type": "code",
   "execution_count": null,
   "metadata": {},
   "outputs": [],
   "source": [
    "def cat_dog(str):\n",
    "  cat_count = 0\n",
    "  dog_count = 0\n",
    "  for i in range (len(str)):\n",
    "    if 'cat' in str[i:i+3]:\n",
    "      cat_count += 1\n",
    "    if 'dog' in str[i:i+3]:\n",
    "      dog_count += 1\n",
    "  if dog_count == cat_count:\n",
    "    return True\n",
    "  else:\n",
    "    return False\n",
    "    \n"
   ]
  },
  {
   "cell_type": "markdown",
   "metadata": {},
   "source": [
    "#### count_code\n",
    "\n",
    "* Return the number of times that the string \"code\" appears anywhere in the given string, except we'll accept any letter for the 'd', so \"cope\" and \"cooe\" count.\n",
    "\n",
    "\n",
    "count_code('aaacodebbb') → 1\n",
    "\n",
    "count_code('codexxcode') → 2\n",
    "\n",
    "count_code('cozexxcope') → 2"
   ]
  },
  {
   "cell_type": "code",
   "execution_count": null,
   "metadata": {},
   "outputs": [],
   "source": [
    "def count_code(str):\n",
    "  code_count = 0\n",
    "  for i in range (len(str)):\n",
    "    if 'co' in str[i:i+2] and 'e' in str[i:i+4]:\n",
    "      code_count += 1\n",
    "  return code_count\n"
   ]
  },
  {
   "cell_type": "markdown",
   "metadata": {},
   "source": [
    "#### end_other\n",
    "\n",
    "* Given two strings, return True if either of the strings appears at the very end of the other string, ignoring upper/lower case differences (in other words, the computation should not be \"case sensitive\"). Note: s.lower() returns the lowercase version of a string.\n",
    "\n",
    "\n",
    "end_other('Hiabc', 'abc') → True\n",
    "\n",
    "end_other('AbC', 'HiaBc') → True\n",
    "\n",
    "end_other('abc', 'abXabc') → True"
   ]
  },
  {
   "cell_type": "code",
   "execution_count": null,
   "metadata": {},
   "outputs": [],
   "source": [
    "def end_other(a, b):\n",
    "  a = a.lower()\n",
    "  b = b.lower()\n",
    "  if b in a[-len(b):] or a in b[-len(a):]:\n",
    "    return True\n",
    "  else:\n",
    "    return False\n"
   ]
  },
  {
   "cell_type": "markdown",
   "metadata": {},
   "source": [
    "#### xyz_there\n",
    "\n",
    "* Return True if the given string contains an appearance of \"xyz\" where the xyz is not directly preceeded by a period (.). So \"xxyz\" counts but \"x.xyz\" does not.\n",
    "\n",
    "\n",
    "xyz_there('abcxyz') → True\n",
    "\n",
    "xyz_there('abc.xyz') → False\n",
    "\n",
    "xyz_there('xyz.abc') → True\n"
   ]
  },
  {
   "cell_type": "code",
   "execution_count": null,
   "metadata": {},
   "outputs": [],
   "source": [
    "def xyz_there(str):\n",
    "  # for i in range(len(str)):\n",
    "  #   if len(str) > 0:\n",
    "  #     if 'xyz' in str and '.xyz' not in str and 'xyz' in str >= 2:\n",
    "  #       return True\n",
    "  #     # elif 'xyz' in str and 'xyz' in str > \n",
    "  #     else:\n",
    "  #       return False\n",
    "  #   return False\n",
    "    \n",
    "  i=0\n",
    "  while \"xyz\" in str[i:]:\n",
    "    if str[i-1+str[i:].index(\"xyz\")] != \".\":\n",
    "      return True\n",
    "    i += str[i:].index(\"xyz\")+2\n",
    "  return False"
   ]
  }
 ],
 "metadata": {
  "language_info": {
   "codemirror_mode": {
    "name": "ipython",
    "version": 3
   },
   "file_extension": ".py",
   "mimetype": "text/x-python",
   "name": "python",
   "nbconvert_exporter": "python",
   "pygments_lexer": "ipython3",
   "version": 3
  },
  "orig_nbformat": 2
 },
 "nbformat": 4,
 "nbformat_minor": 2
}