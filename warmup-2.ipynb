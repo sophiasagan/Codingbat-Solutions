{
 "cells": [
  {
   "cell_type": "markdown",
   "metadata": {},
   "source": [
    "## Codingbat Solutions"
   ]
  },
  {
   "cell_type": "markdown",
   "metadata": {},
   "source": [
    "### Warmup-2\n",
    "\n"
   ]
  },
  {
   "cell_type": "markdown",
   "metadata": {},
   "source": [
    "#### string_times\n",
    "\n",
    "* Given a string and a non-negative int n, return a larger string that is n copies of the original string.\n",
    "\n",
    "\n",
    "string_times('Hi', 2) → 'HiHi'\n",
    "string_times('Hi', 3) → 'HiHiHi'\n",
    "string_times('Hi', 1) → 'Hi'"
   ]
  },
  {
   "cell_type": "code",
   "execution_count": null,
   "metadata": {},
   "outputs": [],
   "source": [
    "def string_times(str, n):\n",
    "  return str * n\n"
   ]
  },
  {
   "cell_type": "markdown",
   "metadata": {},
   "source": [
    "#### front_times\n",
    "\n",
    "* Given a string and a non-negative int n, we'll say that the front of the string is the first 3 chars, or whatever is there if the string is less than length 3. Return n copies of the front;\n",
    "\n",
    "\n",
    "front_times('Chocolate', 2) → 'ChoCho'\n",
    "front_times('Chocolate', 3) → 'ChoChoCho'\n",
    "front_times('Abc', 3) → 'AbcAbcAbc'"
   ]
  },
  {
   "cell_type": "code",
   "execution_count": null,
   "metadata": {},
   "outputs": [],
   "source": [
    "def front_times(str, n):\n",
    "  return str[:3] * n\n"
   ]
  },
  {
   "cell_type": "markdown",
   "metadata": {},
   "source": [
    "#### string_bits\n",
    "\n",
    "* Given a string, return a new string made of every other char starting with the first, so \"Hello\" yields \"Hlo\".\n",
    "\n",
    "\n",
    "string_bits('Hello') → 'Hlo'\n",
    "string_bits('Hi') → 'H'\n",
    "string_bits('Heeololeo') → 'Hello'"
   ]
  },
  {
   "cell_type": "code",
   "execution_count": null,
   "metadata": {},
   "outputs": [],
   "source": [
    "def string_bits(str):\n",
    "  return str[::2]"
   ]
  },
  {
   "cell_type": "markdown",
   "metadata": {},
   "source": [
    "#### string_splosion\n",
    "\n",
    "* Given a non-empty string like \"Code\" return a string like \"CCoCodCode\".\n",
    "\n",
    "\n",
    "string_splosion('Code') → 'CCoCodCode'\n",
    "string_splosion('abc') → 'aababc'\n",
    "string_splosion('ab') → 'aab'"
   ]
  },
  {
   "cell_type": "code",
   "execution_count": null,
   "metadata": {},
   "outputs": [],
   "source": [
    "def string_splosion(str):\n",
    "  new_string = \"\"\n",
    "  for i in range(1, len(str)+1):\n",
    "    new_string = new_string + str[:i]\n",
    "  return new_string"
   ]
  },
  {
   "cell_type": "markdown",
   "metadata": {},
   "source": [
    "#### last2\n",
    "\n",
    "* Given a string, return the count of the number of times that a substring length 2 appears in the string and also as the last 2 chars of the string, so \"hixxxhi\" yields 1 (we won't count the end substring).\n",
    "\n",
    "\n",
    "last2('hixxhi') → 1\n",
    "last2('xaxxaxaxx') → 1\n",
    "last2('axxxaaxx') → 2"
   ]
  },
  {
   "cell_type": "code",
   "execution_count": null,
   "metadata": {},
   "outputs": [],
   "source": [
    "def last2(str):\n",
    "  count = 0\n",
    "  for i in range(0, len(str)-2):\n",
    "    if str[-2:] == str[i:i+2]:\n",
    "      count +=1\n",
    "  return count"
   ]
  },
  {
   "cell_type": "markdown",
   "metadata": {},
   "source": [
    "#### array_count9\n",
    "\n",
    "* Given an array of ints, return the number of 9's in the array.\n",
    "\n",
    "\n",
    "array_count9([1, 2, 9]) → 1\n",
    "array_count9([1, 9, 9]) → 2\n",
    "array_count9([1, 9, 9, 3, 9]) → 3"
   ]
  },
  {
   "cell_type": "code",
   "execution_count": null,
   "metadata": {},
   "outputs": [],
   "source": [
    "def array_count9(nums):\n",
    "  count = 0\n",
    "  for num in nums:\n",
    "    if num == 9:\n",
    "      count = count +1\n",
    "  return count"
   ]
  },
  {
   "cell_type": "markdown",
   "metadata": {},
   "source": [
    "#### array_front9\n",
    "\n",
    "* Given an array of ints, return True if one of the first 4 elements in the array is a 9. The array length may be less than 4.\n",
    "\n",
    "\n",
    "array_front9([1, 2, 9, 3, 4]) → True\n",
    "array_front9([1, 2, 3, 4, 9]) → False\n",
    "array_front9([1, 2, 3, 4, 5]) → False"
   ]
  },
  {
   "cell_type": "code",
   "execution_count": null,
   "metadata": {},
   "outputs": [],
   "source": [
    "def array_front9(nums):\n",
    "  if nums[:4].count(9):\n",
    "    return True\n",
    "  else:\n",
    "    return False"
   ]
  },
  {
   "cell_type": "markdown",
   "metadata": {},
   "source": [
    "#### array123\n",
    "\n",
    "* Given an array of ints, return True if the sequence of numbers 1, 2, 3 appears in the array somewhere.\n",
    "\n",
    "\n",
    "array123([1, 1, 2, 3, 1]) → True\n",
    "array123([1, 1, 2, 4, 1]) → False\n",
    "array123([1, 1, 2, 1, 2, 3]) → True\n"
   ]
  },
  {
   "cell_type": "code",
   "execution_count": null,
   "metadata": {},
   "outputs": [],
   "source": [
    "def array123(nums):\n",
    "  for i in range(len(nums)):\n",
    "    if [1,2,3]== nums[i:i+3]:\n",
    "      return True\n",
    "  return False"
   ]
  },
  {
   "cell_type": "markdown",
   "metadata": {},
   "source": [
    "#### string_match\n",
    "\n",
    "* Given 2 strings, a and b, return the number of the positions where they contain the same length 2 substring. So \"xxcaazz\" and \"xxbaaz\" yields 3, since the \"xx\", \"aa\", and \"az\" substrings appear in the same place in both strings.\n",
    "\n",
    "\n",
    "string_match('xxcaazz', 'xxbaaz') → 3\n",
    "string_match('abc', 'abc') → 2\n",
    "string_match('abc', 'axc') → 0"
   ]
  },
  {
   "cell_type": "code",
   "execution_count": null,
   "metadata": {},
   "outputs": [],
   "source": [
    "def string_match(a, b):\n",
    "  count = 0\n",
    "  for i in range(min(len(a), len(b))-1):\n",
    "    if a[i:i+2] == b[i:i+2]:\n",
    "      count +=1\n",
    "  return count"
   ]
  }
 ],
 "metadata": {
  "kernelspec": {
   "display_name": "Python 3.8.3 64-bit",
   "language": "python",
   "name": "python38364bitfa50acdca65f4cd19dbbd264ca5400d8"
  },
  "language_info": {
   "codemirror_mode": {
    "name": "ipython",
    "version": 3
   },
   "file_extension": ".py",
   "mimetype": "text/x-python",
   "name": "python",
   "nbconvert_exporter": "python",
   "pygments_lexer": "ipython3",
   "version": "3.8.3"
  }
 },
 "nbformat": 4,
 "nbformat_minor": 4
}
