{
 "cells": [
  {
   "cell_type": "markdown",
   "metadata": {},
   "source": [
    "## CodingBat Solutions\n",
    "\n",
    "### List-2"
   ]
  },
  {
   "cell_type": "markdown",
   "metadata": {},
   "source": [
    "#### count_evans\n",
    "\n",
    "* Return the number of even ints in the given array. Note: the % \"mod\" operator computes the remainder, e.g. 5 % 2 is 1.\n",
    "\n",
    "\n",
    "count_evens([2, 1, 2, 3, 4]) → 3\n",
    "\n",
    "count_evens([2, 2, 0]) → 3\n",
    "\n",
    "count_evens([1, 3, 5]) → 0"
   ]
  },
  {
   "cell_type": "code",
   "execution_count": null,
   "metadata": {},
   "outputs": [],
   "source": [
    "def count_evens(nums):\n",
    "  count = 0\n",
    "  for num in nums:\n",
    "    if num % 2 == 0:\n",
    "      count += 1\n",
    "  return count\n"
   ]
  },
  {
   "cell_type": "markdown",
   "metadata": {},
   "source": [
    "#### big_diff\n",
    "\n",
    "* Given an array length 1 or more of ints, return the difference between the largest and smallest values in the array. Note: the built-in min(v1, v2) and max(v1, v2) functions return the smaller or larger of two values.\n",
    "\n",
    "\n",
    "big_diff([10, 3, 5, 6]) → 7\n",
    "\n",
    "big_diff([7, 2, 10, 9]) → 8\n",
    "\n",
    "big_diff([2, 10, 7, 2]) → 8"
   ]
  },
  {
   "cell_type": "code",
   "execution_count": null,
   "metadata": {},
   "outputs": [],
   "source": [
    "def big_diff(nums):\n",
    "  new_nums = []\n",
    "  for num in nums:\n",
    "    new_nums = abs(min(nums) - max(nums))\n",
    "  return new_nums\n"
   ]
  },
  {
   "cell_type": "markdown",
   "metadata": {},
   "source": [
    "#### centered_average\n",
    "\n",
    "* Return the \"centered\" average of an array of ints, which we'll say is the mean average of the values, except ignoring the largest and smallest values in the array. If there are multiple copies of the smallest value, ignore just one copy, and likewise for the largest value. Use int division to produce the final average. You may assume that the array is length 3 or more.\n",
    "\n",
    "\n",
    "centered_average([1, 2, 3, 4, 100]) → 3\n",
    "\n",
    "centered_average([1, 1, 5, 5, 10, 8, 7]) → 5\n",
    "\n",
    "centered_average([-10, -4, -2, -4, -2, 0]) → -3"
   ]
  },
  {
   "cell_type": "code",
   "execution_count": null,
   "metadata": {},
   "outputs": [],
   "source": [
    "def centered_average(nums):\n",
    "  final_sum = 0\n",
    "  for num in nums:\n",
    "    final_sum = (sum(nums) - max(nums) - min(nums))\n",
    "  return (final_sum // (len(nums)-2))\n",
    "  \n"
   ]
  },
  {
   "cell_type": "markdown",
   "metadata": {},
   "source": [
    "#### sum13\n",
    "\n",
    "* Return the sum of the numbers in the array, returning 0 for an empty array. Except the number 13 is very unlucky, so it does not count and numbers that come immediately after a 13 also do not count.\n",
    "\n",
    "\n",
    "sum13([1, 2, 2, 1]) → 6\n",
    "\n",
    "sum13([1, 1]) → 2\n",
    "\n",
    "sum13([1, 2, 2, 1, 13]) → 6"
   ]
  },
  {
   "cell_type": "code",
   "execution_count": null,
   "metadata": {},
   "outputs": [],
   "source": [
    "def sum13(nums):\n",
    "  # while 13 in nums:\n",
    "  #   if nums.index(13) < len(nums)-1:\n",
    "  #     nums.pop(nums.index(13)+1)\n",
    "  #   nums.pop(nums.index(13))\n",
    "    \n",
    "  # return sum(nums)\n",
    "\n",
    "  sum = 0\n",
    "  for i in range(len(nums)):\n",
    "      if i == 0:\n",
    "          if nums[i] == 13:\n",
    "              sum += 0\n",
    "          else: \n",
    "              sum += nums[i]\n",
    "      else:\n",
    "          if nums[i] == 13 or nums[i-1] ==13:\n",
    "              sum += 0\n",
    "          else: \n",
    "              sum += nums[i]\n",
    "\n",
    "  return sum"
   ]
  },
  {
   "cell_type": "markdown",
   "metadata": {},
   "source": [
    "#### sum67\n",
    "\n",
    "* Return the sum of the numbers in the array, except ignore sections of numbers starting with a 6 and extending to the next 7 (every 6 will be followed by at least one 7). Return 0 for no numbers.\n",
    "\n",
    "\n",
    "sum67([1, 2, 2]) → 5\n",
    "\n",
    "sum67([1, 2, 2, 6, 99, 99, 7]) → 5\n",
    "\n",
    "sum67([1, 1, 6, 7, 2]) → 4"
   ]
  },
  {
   "cell_type": "code",
   "execution_count": null,
   "metadata": {},
   "outputs": [],
   "source": [
    "def sum67(nums):\n",
    "  sum = 0\n",
    "  ignore_sect = True\n",
    "  for num in nums:\n",
    "    if ignore_sect:\n",
    "      if num == 6:\n",
    "        ignore_sect = False\n",
    "        continue\n",
    "      sum += num\n",
    "    else:\n",
    "      if num == 7:\n",
    "        ignore_sect = True\n",
    "      \n",
    "  return sum"
   ]
  },
  {
   "cell_type": "markdown",
   "metadata": {},
   "source": [
    "#### has22\n",
    "\n",
    "* Given an array of ints, return True if the array contains a 2 next to a 2 somewhere.\n",
    "\n",
    "\n",
    "has22([1, 2, 2]) → True\n",
    "\n",
    "has22([1, 2, 1, 2]) → False\n",
    "\n",
    "has22([2, 1, 2]) → False"
   ]
  },
  {
   "cell_type": "code",
   "execution_count": null,
   "metadata": {},
   "outputs": [],
   "source": [
    "def has22(nums):\n",
    "  for i in range(len(nums)-1):\n",
    "    if nums[i] == 2 and nums[i+1] ==2:\n",
    "      return True\n",
    "      \n",
    "  return False"
   ]
  }
 ],
 "metadata": {
  "language_info": {
   "codemirror_mode": {
    "name": "ipython",
    "version": 3
   },
   "file_extension": ".py",
   "mimetype": "text/x-python",
   "name": "python",
   "nbconvert_exporter": "python",
   "pygments_lexer": "ipython3",
   "version": 3
  },
  "orig_nbformat": 2
 },
 "nbformat": 4,
 "nbformat_minor": 2
}