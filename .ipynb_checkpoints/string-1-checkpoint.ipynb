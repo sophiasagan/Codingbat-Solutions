{
 "cells": [
  {
   "cell_type": "markdown",
   "metadata": {},
   "source": [
    "## Codingbat Solutions"
   ]
  },
  {
   "cell_type": "markdown",
   "metadata": {},
   "source": [
    "### string-1"
   ]
  },
  {
   "cell_type": "markdown",
   "metadata": {},
   "source": [
    "#### hello_name\n",
    "\n",
    "\n",
    "* Given a string name, e.g. \"Bob\", return a greeting of the form \"Hello Bob!\".\n",
    "\n",
    "\n",
    "hello_name('Bob') → 'Hello Bob!'\n",
    "\n",
    "hello_name('Alice') → 'Hello Alice!'\n",
    "\n",
    "hello_name('X') → 'Hello X!'\n"
   ]
  },
  {
   "cell_type": "code",
   "execution_count": null,
   "metadata": {},
   "outputs": [],
   "source": [
    "def hello_name(name):\n",
    "  return \"Hello \" + name + \"!\"\n"
   ]
  },
  {
   "cell_type": "markdown",
   "metadata": {},
   "source": [
    "#### make_abba\n",
    "\n",
    "* Given two strings, a and b, return the result of putting them together in the order abba, e.g. \"Hi\" and \"Bye\" returns \"HiByeByeHi\".\n",
    "\n",
    "\n",
    "make_abba('Hi', 'Bye') → 'HiByeByeHi'\n",
    "\n",
    "make_abba('Yo', 'Alice') → 'YoAliceAliceYo'\n",
    "\n",
    "make_abba('What', 'Up') → 'WhatUpUpWhat'"
   ]
  },
  {
   "cell_type": "code",
   "execution_count": null,
   "metadata": {},
   "outputs": [],
   "source": [
    "def make_abba(a, b):\n",
    "  return a+b+b+a\n"
   ]
  },
  {
   "cell_type": "markdown",
   "metadata": {},
   "source": [
    "#### make_tags\n",
    "\n",
    "* The web is built with HTML strings like \"<i>Yay</i>\" which draws Yay as italic text. In this example, the \"i\" tag makes <i> and </i> which surround the word \"Yay\". Given tag and word strings, create the HTML string with tags around the word, e.g. \"<i>Yay</i>\".\n",
    "\n",
    "\n",
    "make_tags('i', 'Yay') → '<i>Yay</i>'\n",
    "\n",
    "make_tags('i', 'Hello') → '<i>Hello</i>'\n",
    "\n",
    "make_tags('cite', 'Yay') → '<cite>Yay</cite>'"
   ]
  },
  {
   "cell_type": "code",
   "execution_count": null,
   "metadata": {},
   "outputs": [],
   "source": [
    "def make_tags(tag, word):\n",
    "  return \"<\"+tag+\">\"+word+\"<\"+\"/\"+tag+\">\"\n"
   ]
  },
  {
   "cell_type": "markdown",
   "metadata": {},
   "source": [
    "#### make_out_word\n",
    "\n",
    "* Given an \"out\" string length 4, such as \"<<>>\", and a word, return a new string where the word is in the middle of the out string, e.g. \"<<word>>\".\n",
    "\n",
    "\n",
    "make_out_word('<<>>', 'Yay') → '<<Yay>>'\n",
    "\n",
    "make_out_word('<<>>', 'WooHoo') → '<<WooHoo>>'\n",
    "\n",
    "make_out_word('[[]]', 'word') → '[[word]]'"
   ]
  },
  {
   "cell_type": "code",
   "execution_count": null,
   "metadata": {},
   "outputs": [],
   "source": [
    "def make_out_word(out, word):\n",
    "  return(out[:2] + word + out[-2:])\n"
   ]
  },
  {
   "cell_type": "markdown",
   "metadata": {},
   "source": [
    "#### extra_end\n",
    "\n",
    "* Given a string, return a new string made of 3 copies of the last 2 chars of the original string. The string length will be at least 2.\n",
    "\n",
    "\n",
    "extra_end('Hello') → 'lololo'\n",
    "\n",
    "extra_end('ab') → 'ababab'\n",
    "\n",
    "extra_end('Hi') → 'HiHiHi'"
   ]
  },
  {
   "cell_type": "code",
   "execution_count": null,
   "metadata": {},
   "outputs": [],
   "source": [
    "def extra_end(str):\n",
    "  return(str[-2:] *3)\n"
   ]
  },
  {
   "cell_type": "markdown",
   "metadata": {},
   "source": [
    "#### first_two\n",
    "\n",
    "* Given a string, return the string made of its first two chars, so the String \"Hello\" yields \"He\". If the string is shorter than length 2, return whatever there is, so \"X\" yields \"X\", and the empty string \"\" yields the empty string \"\".\n",
    "\n",
    "\n",
    "first_two('Hello') → 'He'\n",
    "\n",
    "first_two('abcdefg') → 'ab'\n",
    "\n",
    "first_two('ab') → 'ab'"
   ]
  },
  {
   "cell_type": "code",
   "execution_count": null,
   "metadata": {},
   "outputs": [],
   "source": [
    "def first_two(str):\n",
    "  if len(str) <= 2:\n",
    "    return str\n",
    "  else:\n",
    "    return str[:2]\n"
   ]
  },
  {
   "cell_type": "markdown",
   "metadata": {},
   "source": [
    "#### first_half\n",
    "\n",
    "* Given a string of even length, return the first half. So the string \"WooHoo\" yields \"Woo\".\n",
    "\n",
    "\n",
    "first_half('WooHoo') → 'Woo'\n",
    "\n",
    "first_half('HelloThere') → 'Hello'\n",
    "\n",
    "first_half('abcdef') → 'abc'"
   ]
  },
  {
   "cell_type": "code",
   "execution_count": null,
   "metadata": {},
   "outputs": [],
   "source": [
    "def first_half(str):\n",
    "  return str[:len(str)/2]\n"
   ]
  },
  {
   "cell_type": "markdown",
   "metadata": {},
   "source": [
    "#### without_end\n",
    "\n",
    "* Given a string, return a version without the first and last char, so \"Hello\" yields \"ell\". The string length will be at least 2.\n",
    "\n",
    "\n",
    "without_end('Hello') → 'ell'\n",
    "\n",
    "without_end('java') → 'av'\n",
    "\n",
    "without_end('coding') → 'odin'"
   ]
  },
  {
   "cell_type": "code",
   "execution_count": null,
   "metadata": {},
   "outputs": [],
   "source": [
    "def without_end(str):\n",
    "  if len(str) >= 2:\n",
    "    return str[1:-1]\n"
   ]
  },
  {
   "cell_type": "markdown",
   "metadata": {},
   "source": [
    "#### combo_string\n",
    "\n",
    "* \n",
    "Given 2 strings, a and b, return a string of the form short+long+short, with the shorter string on the outside and the longer string on the inside. The strings will not be the same length, but they may be empty (length 0).\n",
    "\n",
    "\n",
    "combo_string('Hello', 'hi') → 'hiHellohi'\n",
    "\n",
    "combo_string('hi', 'Hello') → 'hiHellohi'\n",
    "\n",
    "combo_string('aaa', 'b') → 'baaab'"
   ]
  },
  {
   "cell_type": "code",
   "execution_count": null,
   "metadata": {},
   "outputs": [],
   "source": [
    "def combo_string(a, b):\n",
    "  if len(a) > len(b):\n",
    "    return b+a+b\n",
    "  else:\n",
    "    return a+b+a\n"
   ]
  },
  {
   "cell_type": "markdown",
   "metadata": {},
   "source": [
    "#### non_start\n",
    "\n",
    "* Given 2 strings, return their concatenation, except omit the first char of each. The strings will be at least length 1.\n",
    "\n",
    "\n",
    "non_start('Hello', 'There') → 'ellohere'\n",
    "\n",
    "non_start('java', 'code') → 'avaode'\n",
    "\n",
    "non_start('shotl', 'java') → 'hotlava'"
   ]
  },
  {
   "cell_type": "code",
   "execution_count": null,
   "metadata": {},
   "outputs": [],
   "source": [
    "def non_start(a, b):\n",
    "  if len(a) or len(b) > 1:\n",
    "    return(a[1:] + b[1:])\n"
   ]
  },
  {
   "cell_type": "markdown",
   "metadata": {},
   "source": [
    "#### left2\n",
    "\n",
    "* Given a string, return a \"rotated left 2\" version where the first 2 chars are moved to the end. The string length will be at least 2.\n",
    "\n",
    "\n",
    "left2('Hello') → 'lloHe'\n",
    "\n",
    "left2('java') → 'vaja'\n",
    "\n",
    "left2('Hi') → 'Hi'"
   ]
  },
  {
   "cell_type": "code",
   "execution_count": null,
   "metadata": {},
   "outputs": [],
   "source": [
    "def left2(str):\n",
    "  return (str[2:] + str[:2])"
   ]
  }
 ],
 "metadata": {
  "kernelspec": {
   "display_name": "Python 3.8.3 64-bit",
   "language": "python",
   "name": "python38364bitfa50acdca65f4cd19dbbd264ca5400d8"
  },
  "language_info": {
   "name": ""
  }
 },
 "nbformat": 4,
 "nbformat_minor": 4
}
